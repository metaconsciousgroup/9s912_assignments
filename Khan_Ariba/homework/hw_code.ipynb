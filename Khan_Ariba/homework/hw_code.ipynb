{
  "cells": [
    {
      "cell_type": "code",
      "execution_count": null,
      "metadata": {
        "id": "smU-3ibOCH_G"
      },
      "outputs": [],
      "source": [
        "import numpy as np\n",
        "import torch\n",
        "import torchvision\n",
        "import torchvision.transforms as transforms\n",
        "import torch.nn as nn\n",
        "import torch.nn.functional as F\n",
        "import matplotlib.pyplot as plt\n",
        "from skimage.metrics import peak_signal_noise_ratio as compare_psnr\n",
        "from skimage.metrics import structural_similarity as compare_ssim\n",
        "from sklearn.linear_model import LogisticRegression\n",
        "from sklearn.preprocessing import StandardScaler\n",
        "from sklearn.metrics import accuracy_score\n",
        "from torchvision.utils import make_grid\n",
        "import torch.optim as optim\n",
        "import time\n",
        "from tqdm import tqdm\n",
        "import pickle"
      ]
    },
    {
      "cell_type": "code",
      "execution_count": null,
      "metadata": {
        "id": "x4I3Qpk5hWJt"
      },
      "outputs": [],
      "source": [
        "from google.colab import drive\n",
        "drive.mount('/content/drive')"
      ]
    },
    {
      "cell_type": "markdown",
      "metadata": {
        "id": "jhOuuhLHaijR"
      },
      "source": [
        "# Pre-process Data"
      ]
    },
    {
      "cell_type": "code",
      "execution_count": null,
      "metadata": {
        "id": "7wOM0RZlaePA"
      },
      "outputs": [],
      "source": [
        "transform = transforms.Compose([\n",
        "    transforms.RandomHorizontalFlip(),\n",
        "    transforms.RandomCrop(32, padding=4),\n",
        "    transforms.ToTensor(),\n",
        "    transforms.Normalize((0.4914, 0.4822, 0.4465), (0.2023, 0.1994, 0.2010))  # CIFAR-10 specific\n",
        "])\n",
        "\n",
        "dataset = torchvision.datasets.CIFAR10(root='./data', train=True,\n",
        "                                        download=True, transform=transform)\n"
      ]
    },
    {
      "cell_type": "code",
      "execution_count": null,
      "metadata": {
        "id": "wfh0aLc4bIVb"
      },
      "outputs": [],
      "source": [
        "train_size = int(0.8 * len(dataset))\n",
        "val_size = len(dataset) - train_size\n",
        "\n",
        "trainset, valset = torch.utils.data.random_split(dataset, [train_size, val_size])\n",
        "\n",
        "trainloader = torch.utils.data.DataLoader(trainset, batch_size=64,\n",
        "                                          shuffle=True, num_workers=2)\n",
        "valloader = torch.utils.data.DataLoader(valset, batch_size=64,\n",
        "                                          shuffle=False, num_workers=2)\n",
        "\n",
        "testset = torchvision.datasets.CIFAR10(root='./data', train=False,\n",
        "                                       download=True, transform=transform)\n",
        "testloader = torch.utils.data.DataLoader(testset, batch_size=64,\n",
        "                                         shuffle=False, num_workers=2)\n"
      ]
    },
    {
      "cell_type": "markdown",
      "metadata": {
        "id": "bweuJpXdmxd-"
      },
      "source": [
        "# Create and Train Autoencoder"
      ]
    },
    {
      "cell_type": "code",
      "execution_count": null,
      "metadata": {
        "id": "Mb3ZA6yECjY3"
      },
      "outputs": [],
      "source": [
        "def train(model, trainloader, valloader, optimizer, criterion, num_epochs, l1_reg=None):\n",
        "    train_losses = []\n",
        "    val_losses = []\n",
        "\n",
        "    for epoch in range(num_epochs):\n",
        "        model.train()\n",
        "        train_loss = 0\n",
        "        for data in tqdm(trainloader, total=len(trainloader)):\n",
        "            inputs, _ = data\n",
        "            inputs = inputs.cuda()\n",
        "            optimizer.zero_grad()\n",
        "\n",
        "            outputs = model(inputs)\n",
        "            loss = criterion(outputs, inputs)\n",
        "\n",
        "            if l1_reg is not None:\n",
        "                l1_loss = l1_reg * torch.norm(model.bottleneck.weight, 1)\n",
        "                loss += l1_loss\n",
        "\n",
        "            loss.backward()\n",
        "            optimizer.step()\n",
        "\n",
        "            train_loss += loss.item()\n",
        "\n",
        "        model.eval()\n",
        "        val_loss = 0\n",
        "        with torch.no_grad():\n",
        "            for data in valloader:\n",
        "                inputs, _ = data\n",
        "                inputs = inputs.cuda()\n",
        "                outputs = model(inputs)\n",
        "                loss = criterion(outputs, inputs)\n",
        "                val_loss += loss.item()\n",
        "\n",
        "        train_loss /= len(trainloader)\n",
        "        val_loss /= len(valloader)\n",
        "\n",
        "        train_losses.append(train_loss)\n",
        "        val_losses.append(val_loss)\n",
        "\n",
        "        print(f\"Epoch {epoch+1}/{num_epochs}: Train Loss: {train_loss:.4f}, Val Loss: {val_loss:.4f}\")\n",
        "\n",
        "    return train_losses, val_losses\n"
      ]
    },
    {
      "cell_type": "code",
      "execution_count": null,
      "metadata": {
        "id": "Jcx_KCvRC0pZ"
      },
      "outputs": [],
      "source": [
        "criterion = nn.MSELoss()\n",
        "num_epochs = 50"
      ]
    },
    {
      "cell_type": "code",
      "execution_count": null,
      "metadata": {
        "id": "p8Q_JXkxmFDR"
      },
      "outputs": [],
      "source": [
        "class SparseAutoencoder(nn.Module):\n",
        "    def __init__(self):\n",
        "        super(SparseAutoencoder, self).__init__()\n",
        "\n",
        "        self.encoder = nn.Sequential(\n",
        "            nn.Conv2d(3, 16, 3, stride=2, padding=1),\n",
        "            nn.ReLU(),\n",
        "            nn.Conv2d(16, 32, 3, stride=2, padding=1),\n",
        "            nn.ReLU(),\n",
        "        )\n",
        "\n",
        "        self.bottleneck = nn.Linear(32 * 8 * 8, 2000)\n",
        "\n",
        "        self.decoder = nn.Sequential(\n",
        "            nn.Linear(2000, 32 * 8 * 8),\n",
        "            nn.ReLU(),\n",
        "            nn.ConvTranspose2d(32, 16, 3, stride=2, padding=1, output_padding=1),\n",
        "            nn.ReLU(),\n",
        "            nn.ConvTranspose2d(16, 3, 3, stride=2, padding=1, output_padding=1),\n",
        "        )\n",
        "\n",
        "    def extract_features(self, x):\n",
        "        x = self.encoder(x)\n",
        "        x = x.view(x.size(0), -1)\n",
        "        x = self.bottleneck(x)\n",
        "        return x\n",
        "\n",
        "    def forward(self, x):\n",
        "        x = self.encoder(x)\n",
        "        x = x.view(x.size(0), -1)\n",
        "        x = self.bottleneck(x)\n",
        "        x = self.decoder[0](x)\n",
        "        x = x.view(x.size(0), 32, 8, 8)\n",
        "        x = self.decoder[1:](x)\n",
        "        return x\n",
        "\n"
      ]
    },
    {
      "cell_type": "code",
      "execution_count": null,
      "metadata": {
        "colab": {
          "background_save": true,
          "base_uri": "https://localhost:8080/"
        },
        "id": "w_5D6bwzCr3G",
        "outputId": "27cfe6bf-443e-4b7e-c263-fbb71a5df95e"
      },
      "outputs": [
        {
          "name": "stderr",
          "output_type": "stream",
          "text": [
            "100%|██████████| 625/625 [00:19<00:00, 32.22it/s]\n"
          ]
        },
        {
          "name": "stdout",
          "output_type": "stream",
          "text": [
            "Epoch 1/50: Train Loss: 1.1612, Val Loss: 0.4973\n"
          ]
        },
        {
          "name": "stderr",
          "output_type": "stream",
          "text": [
            "100%|██████████| 625/625 [00:28<00:00, 22.08it/s]\n"
          ]
        },
        {
          "name": "stdout",
          "output_type": "stream",
          "text": [
            "Epoch 2/50: Train Loss: 0.4614, Val Loss: 0.3459\n"
          ]
        },
        {
          "name": "stderr",
          "output_type": "stream",
          "text": [
            "100%|██████████| 625/625 [00:21<00:00, 28.80it/s]\n"
          ]
        },
        {
          "name": "stdout",
          "output_type": "stream",
          "text": [
            "Epoch 3/50: Train Loss: 0.3498, Val Loss: 0.2827\n"
          ]
        },
        {
          "name": "stderr",
          "output_type": "stream",
          "text": [
            "100%|██████████| 625/625 [00:18<00:00, 34.70it/s]\n"
          ]
        },
        {
          "name": "stdout",
          "output_type": "stream",
          "text": [
            "Epoch 4/50: Train Loss: 0.2986, Val Loss: 0.2503\n"
          ]
        },
        {
          "name": "stderr",
          "output_type": "stream",
          "text": [
            "100%|██████████| 625/625 [00:19<00:00, 31.55it/s]\n"
          ]
        },
        {
          "name": "stdout",
          "output_type": "stream",
          "text": [
            "Epoch 5/50: Train Loss: 0.2659, Val Loss: 0.2254\n"
          ]
        },
        {
          "name": "stderr",
          "output_type": "stream",
          "text": [
            "100%|██████████| 625/625 [00:18<00:00, 33.15it/s]\n"
          ]
        },
        {
          "name": "stdout",
          "output_type": "stream",
          "text": [
            "Epoch 6/50: Train Loss: 0.2387, Val Loss: 0.1999\n"
          ]
        },
        {
          "name": "stderr",
          "output_type": "stream",
          "text": [
            "100%|██████████| 625/625 [00:18<00:00, 33.46it/s]\n"
          ]
        },
        {
          "name": "stdout",
          "output_type": "stream",
          "text": [
            "Epoch 7/50: Train Loss: 0.2161, Val Loss: 0.1822\n"
          ]
        },
        {
          "name": "stderr",
          "output_type": "stream",
          "text": [
            "100%|██████████| 625/625 [00:19<00:00, 31.58it/s]\n"
          ]
        },
        {
          "name": "stdout",
          "output_type": "stream",
          "text": [
            "Epoch 8/50: Train Loss: 0.1982, Val Loss: 0.1684\n"
          ]
        },
        {
          "name": "stderr",
          "output_type": "stream",
          "text": [
            "100%|██████████| 625/625 [00:18<00:00, 33.50it/s]\n"
          ]
        },
        {
          "name": "stdout",
          "output_type": "stream",
          "text": [
            "Epoch 9/50: Train Loss: 0.1837, Val Loss: 0.1566\n"
          ]
        },
        {
          "name": "stderr",
          "output_type": "stream",
          "text": [
            "100%|██████████| 625/625 [00:20<00:00, 30.45it/s]\n"
          ]
        },
        {
          "name": "stdout",
          "output_type": "stream",
          "text": [
            "Epoch 10/50: Train Loss: 0.1712, Val Loss: 0.1454\n"
          ]
        },
        {
          "name": "stderr",
          "output_type": "stream",
          "text": [
            "100%|██████████| 625/625 [00:19<00:00, 32.22it/s]\n"
          ]
        },
        {
          "name": "stdout",
          "output_type": "stream",
          "text": [
            "Epoch 11/50: Train Loss: 0.1604, Val Loss: 0.1371\n"
          ]
        },
        {
          "name": "stderr",
          "output_type": "stream",
          "text": [
            "100%|██████████| 625/625 [00:18<00:00, 33.55it/s]\n"
          ]
        },
        {
          "name": "stdout",
          "output_type": "stream",
          "text": [
            "Epoch 12/50: Train Loss: 0.1515, Val Loss: 0.1278\n"
          ]
        },
        {
          "name": "stderr",
          "output_type": "stream",
          "text": [
            "100%|██████████| 625/625 [00:20<00:00, 30.63it/s]\n"
          ]
        },
        {
          "name": "stdout",
          "output_type": "stream",
          "text": [
            "Epoch 13/50: Train Loss: 0.1436, Val Loss: 0.1208\n"
          ]
        },
        {
          "name": "stderr",
          "output_type": "stream",
          "text": [
            "100%|██████████| 625/625 [00:18<00:00, 33.79it/s]\n"
          ]
        },
        {
          "name": "stdout",
          "output_type": "stream",
          "text": [
            "Epoch 14/50: Train Loss: 0.1370, Val Loss: 0.1152\n"
          ]
        },
        {
          "name": "stderr",
          "output_type": "stream",
          "text": [
            "100%|██████████| 625/625 [00:20<00:00, 31.24it/s]\n"
          ]
        },
        {
          "name": "stdout",
          "output_type": "stream",
          "text": [
            "Epoch 15/50: Train Loss: 0.1309, Val Loss: 0.1101\n"
          ]
        },
        {
          "name": "stderr",
          "output_type": "stream",
          "text": [
            "100%|██████████| 625/625 [00:18<00:00, 33.46it/s]\n"
          ]
        },
        {
          "name": "stdout",
          "output_type": "stream",
          "text": [
            "Epoch 16/50: Train Loss: 0.1254, Val Loss: 0.1049\n"
          ]
        },
        {
          "name": "stderr",
          "output_type": "stream",
          "text": [
            "100%|██████████| 625/625 [00:18<00:00, 33.44it/s]\n"
          ]
        },
        {
          "name": "stdout",
          "output_type": "stream",
          "text": [
            "Epoch 17/50: Train Loss: 0.1200, Val Loss: 0.1002\n"
          ]
        },
        {
          "name": "stderr",
          "output_type": "stream",
          "text": [
            "100%|██████████| 625/625 [00:20<00:00, 30.42it/s]\n"
          ]
        },
        {
          "name": "stdout",
          "output_type": "stream",
          "text": [
            "Epoch 18/50: Train Loss: 0.1143, Val Loss: 0.0944\n"
          ]
        },
        {
          "name": "stderr",
          "output_type": "stream",
          "text": [
            "100%|██████████| 625/625 [00:18<00:00, 33.68it/s]\n"
          ]
        },
        {
          "name": "stdout",
          "output_type": "stream",
          "text": [
            "Epoch 19/50: Train Loss: 0.1088, Val Loss: 0.0892\n"
          ]
        },
        {
          "name": "stderr",
          "output_type": "stream",
          "text": [
            "100%|██████████| 625/625 [00:20<00:00, 30.90it/s]\n"
          ]
        },
        {
          "name": "stdout",
          "output_type": "stream",
          "text": [
            "Epoch 20/50: Train Loss: 0.1042, Val Loss: 0.0850\n"
          ]
        },
        {
          "name": "stderr",
          "output_type": "stream",
          "text": [
            "100%|██████████| 625/625 [00:18<00:00, 33.65it/s]\n"
          ]
        },
        {
          "name": "stdout",
          "output_type": "stream",
          "text": [
            "Epoch 21/50: Train Loss: 0.1000, Val Loss: 0.0821\n"
          ]
        },
        {
          "name": "stderr",
          "output_type": "stream",
          "text": [
            "100%|██████████| 625/625 [00:18<00:00, 34.17it/s]\n"
          ]
        },
        {
          "name": "stdout",
          "output_type": "stream",
          "text": [
            "Epoch 22/50: Train Loss: 0.0963, Val Loss: 0.0797\n"
          ]
        },
        {
          "name": "stderr",
          "output_type": "stream",
          "text": [
            "100%|██████████| 625/625 [00:18<00:00, 33.35it/s]\n"
          ]
        },
        {
          "name": "stdout",
          "output_type": "stream",
          "text": [
            "Epoch 23/50: Train Loss: 0.0932, Val Loss: 0.0754\n"
          ]
        },
        {
          "name": "stderr",
          "output_type": "stream",
          "text": [
            "100%|██████████| 625/625 [00:18<00:00, 34.09it/s]\n"
          ]
        },
        {
          "name": "stdout",
          "output_type": "stream",
          "text": [
            "Epoch 24/50: Train Loss: 0.0903, Val Loss: 0.0742\n"
          ]
        },
        {
          "name": "stderr",
          "output_type": "stream",
          "text": [
            "100%|██████████| 625/625 [00:19<00:00, 31.45it/s]\n"
          ]
        },
        {
          "name": "stdout",
          "output_type": "stream",
          "text": [
            "Epoch 25/50: Train Loss: 0.0874, Val Loss: 0.0714\n"
          ]
        },
        {
          "name": "stderr",
          "output_type": "stream",
          "text": [
            "100%|██████████| 625/625 [00:18<00:00, 34.50it/s]\n"
          ]
        },
        {
          "name": "stdout",
          "output_type": "stream",
          "text": [
            "Epoch 26/50: Train Loss: 0.0850, Val Loss: 0.0703\n"
          ]
        },
        {
          "name": "stderr",
          "output_type": "stream",
          "text": [
            "100%|██████████| 625/625 [00:19<00:00, 32.22it/s]\n"
          ]
        },
        {
          "name": "stdout",
          "output_type": "stream",
          "text": [
            "Epoch 27/50: Train Loss: 0.0827, Val Loss: 0.0693\n"
          ]
        },
        {
          "name": "stderr",
          "output_type": "stream",
          "text": [
            "100%|██████████| 625/625 [00:18<00:00, 34.25it/s]\n"
          ]
        },
        {
          "name": "stdout",
          "output_type": "stream",
          "text": [
            "Epoch 28/50: Train Loss: 0.0807, Val Loss: 0.0679\n"
          ]
        },
        {
          "name": "stderr",
          "output_type": "stream",
          "text": [
            "100%|██████████| 625/625 [00:18<00:00, 34.25it/s]\n"
          ]
        },
        {
          "name": "stdout",
          "output_type": "stream",
          "text": [
            "Epoch 29/50: Train Loss: 0.0787, Val Loss: 0.0650\n"
          ]
        },
        {
          "name": "stderr",
          "output_type": "stream",
          "text": [
            "100%|██████████| 625/625 [00:18<00:00, 33.64it/s]\n"
          ]
        },
        {
          "name": "stdout",
          "output_type": "stream",
          "text": [
            "Epoch 30/50: Train Loss: 0.0771, Val Loss: 0.0630\n"
          ]
        },
        {
          "name": "stderr",
          "output_type": "stream",
          "text": [
            "100%|██████████| 625/625 [00:18<00:00, 34.11it/s]\n"
          ]
        },
        {
          "name": "stdout",
          "output_type": "stream",
          "text": [
            "Epoch 31/50: Train Loss: 0.0752, Val Loss: 0.0606\n"
          ]
        },
        {
          "name": "stderr",
          "output_type": "stream",
          "text": [
            "100%|██████████| 625/625 [00:20<00:00, 30.45it/s]\n"
          ]
        },
        {
          "name": "stdout",
          "output_type": "stream",
          "text": [
            "Epoch 32/50: Train Loss: 0.0742, Val Loss: 0.0600\n"
          ]
        },
        {
          "name": "stderr",
          "output_type": "stream",
          "text": [
            "100%|██████████| 625/625 [00:18<00:00, 34.21it/s]\n"
          ]
        },
        {
          "name": "stdout",
          "output_type": "stream",
          "text": [
            "Epoch 33/50: Train Loss: 0.0725, Val Loss: 0.0625\n"
          ]
        },
        {
          "name": "stderr",
          "output_type": "stream",
          "text": [
            "100%|██████████| 625/625 [00:18<00:00, 33.03it/s]\n"
          ]
        },
        {
          "name": "stdout",
          "output_type": "stream",
          "text": [
            "Epoch 34/50: Train Loss: 0.0710, Val Loss: 0.0577\n"
          ]
        },
        {
          "name": "stderr",
          "output_type": "stream",
          "text": [
            "100%|██████████| 625/625 [00:18<00:00, 34.04it/s]\n"
          ]
        },
        {
          "name": "stdout",
          "output_type": "stream",
          "text": [
            "Epoch 35/50: Train Loss: 0.0699, Val Loss: 0.0574\n"
          ]
        },
        {
          "name": "stderr",
          "output_type": "stream",
          "text": [
            "100%|██████████| 625/625 [00:18<00:00, 33.70it/s]\n"
          ]
        },
        {
          "name": "stdout",
          "output_type": "stream",
          "text": [
            "Epoch 36/50: Train Loss: 0.0691, Val Loss: 0.0561\n"
          ]
        },
        {
          "name": "stderr",
          "output_type": "stream",
          "text": [
            "100%|██████████| 625/625 [00:19<00:00, 31.39it/s]\n"
          ]
        },
        {
          "name": "stdout",
          "output_type": "stream",
          "text": [
            "Epoch 37/50: Train Loss: 0.0675, Val Loss: 0.0551\n"
          ]
        },
        {
          "name": "stderr",
          "output_type": "stream",
          "text": [
            "100%|██████████| 625/625 [00:19<00:00, 32.62it/s]\n"
          ]
        },
        {
          "name": "stdout",
          "output_type": "stream",
          "text": [
            "Epoch 38/50: Train Loss: 0.0665, Val Loss: 0.0536\n"
          ]
        },
        {
          "name": "stderr",
          "output_type": "stream",
          "text": [
            "100%|██████████| 625/625 [00:20<00:00, 30.84it/s]\n"
          ]
        },
        {
          "name": "stdout",
          "output_type": "stream",
          "text": [
            "Epoch 39/50: Train Loss: 0.0656, Val Loss: 0.0525\n"
          ]
        },
        {
          "name": "stderr",
          "output_type": "stream",
          "text": [
            "100%|██████████| 625/625 [00:19<00:00, 32.36it/s]\n"
          ]
        },
        {
          "name": "stdout",
          "output_type": "stream",
          "text": [
            "Epoch 40/50: Train Loss: 0.3361, Val Loss: 0.0583\n"
          ]
        },
        {
          "name": "stderr",
          "output_type": "stream",
          "text": [
            "100%|██████████| 625/625 [00:18<00:00, 33.26it/s]\n"
          ]
        },
        {
          "name": "stdout",
          "output_type": "stream",
          "text": [
            "Epoch 41/50: Train Loss: 0.0698, Val Loss: 0.0529\n"
          ]
        },
        {
          "name": "stderr",
          "output_type": "stream",
          "text": [
            "100%|██████████| 625/625 [00:20<00:00, 30.40it/s]\n"
          ]
        },
        {
          "name": "stdout",
          "output_type": "stream",
          "text": [
            "Epoch 42/50: Train Loss: 0.0652, Val Loss: 0.0539\n"
          ]
        },
        {
          "name": "stderr",
          "output_type": "stream",
          "text": [
            "100%|██████████| 625/625 [00:19<00:00, 32.29it/s]\n"
          ]
        },
        {
          "name": "stdout",
          "output_type": "stream",
          "text": [
            "Epoch 43/50: Train Loss: 0.0643, Val Loss: 0.0532\n"
          ]
        },
        {
          "name": "stderr",
          "output_type": "stream",
          "text": [
            "100%|██████████| 625/625 [00:19<00:00, 32.74it/s]\n"
          ]
        },
        {
          "name": "stdout",
          "output_type": "stream",
          "text": [
            "Epoch 44/50: Train Loss: 0.0638, Val Loss: 0.0520\n"
          ]
        },
        {
          "name": "stderr",
          "output_type": "stream",
          "text": [
            "100%|██████████| 625/625 [00:20<00:00, 29.91it/s]\n"
          ]
        },
        {
          "name": "stdout",
          "output_type": "stream",
          "text": [
            "Epoch 45/50: Train Loss: 0.0634, Val Loss: 0.0519\n"
          ]
        },
        {
          "name": "stderr",
          "output_type": "stream",
          "text": [
            "100%|██████████| 625/625 [00:18<00:00, 34.62it/s]\n"
          ]
        },
        {
          "name": "stdout",
          "output_type": "stream",
          "text": [
            "Epoch 46/50: Train Loss: 0.0627, Val Loss: 0.0513\n"
          ]
        },
        {
          "name": "stderr",
          "output_type": "stream",
          "text": [
            "100%|██████████| 625/625 [00:19<00:00, 31.89it/s]\n"
          ]
        },
        {
          "name": "stdout",
          "output_type": "stream",
          "text": [
            "Epoch 47/50: Train Loss: 0.0621, Val Loss: 0.0505\n"
          ]
        },
        {
          "name": "stderr",
          "output_type": "stream",
          "text": [
            "100%|██████████| 625/625 [00:18<00:00, 33.48it/s]\n"
          ]
        },
        {
          "name": "stdout",
          "output_type": "stream",
          "text": [
            "Epoch 48/50: Train Loss: 0.0617, Val Loss: 0.0504\n"
          ]
        },
        {
          "name": "stderr",
          "output_type": "stream",
          "text": [
            "100%|██████████| 625/625 [00:18<00:00, 33.86it/s]\n"
          ]
        },
        {
          "name": "stdout",
          "output_type": "stream",
          "text": [
            "Epoch 49/50: Train Loss: 0.0610, Val Loss: 0.0496\n"
          ]
        },
        {
          "name": "stderr",
          "output_type": "stream",
          "text": [
            "100%|██████████| 625/625 [00:19<00:00, 31.96it/s]\n"
          ]
        },
        {
          "name": "stdout",
          "output_type": "stream",
          "text": [
            "Epoch 50/50: Train Loss: 0.0604, Val Loss: 0.0487\n"
          ]
        }
      ],
      "source": [
        "# Sparse Autoencoder\n",
        "sparse_autoencoder = SparseAutoencoder().cuda()\n",
        "optimizer_sparse = optim.Adam(sparse_autoencoder.parameters(), lr=0.0001)\n",
        "train_losses_sparse, val_losses_sparse = train(sparse_autoencoder, trainloader, valloader, optimizer_sparse, criterion, num_epochs, l1_reg=2e-5)\n",
        "torch.save(sparse_autoencoder, '/content/drive/MyDrive/sparse_autoencoder_model.pth')"
      ]
    },
    {
      "cell_type": "code",
      "execution_count": null,
      "metadata": {
        "colab": {
          "background_save": true
        },
        "id": "vfan0gUBjIdk"
      },
      "outputs": [],
      "source": [
        "sparse_autoencoder = torch.load('/content/drive/MyDrive/sparse_autoencoder_model.pth')"
      ]
    },
    {
      "cell_type": "code",
      "execution_count": null,
      "metadata": {
        "colab": {
          "background_save": true,
          "base_uri": "https://localhost:8080/"
        },
        "id": "J6u7xYMKCAJd",
        "outputId": "2e900ceb-d95b-4010-974f-32c2b2ed4422"
      },
      "outputs": [
        {
          "name": "stdout",
          "output_type": "stream",
          "text": [
            "Sparse Autoencoder Sparsity Percentage: 63.95%\n"
          ]
        }
      ],
      "source": [
        "def sparsity_analysis(model, threshold=2e-5):\n",
        "    with torch.no_grad():\n",
        "        weights = model.bottleneck.weight.data\n",
        "\n",
        "        near_zero_count = (weights.abs() < threshold).sum().item()\n",
        "\n",
        "        total_weights = weights.numel()\n",
        "        sparsity_percentage = (near_zero_count / total_weights) * 100\n",
        "\n",
        "        return sparsity_percentage\n",
        "\n",
        "sparse_sparsity_percentage = sparsity_analysis(sparse_autoencoder)\n",
        "print(f\"Sparse Autoencoder Sparsity Percentage: {sparse_sparsity_percentage:.2f}%\")"
      ]
    },
    {
      "cell_type": "code",
      "execution_count": null,
      "metadata": {
        "colab": {
          "background_save": true
        },
        "id": "MBZ2iQW1CR-Y"
      },
      "outputs": [],
      "source": [
        "class BaselineAutoencoder(nn.Module):\n",
        "    def __init__(self):\n",
        "        super(BaselineAutoencoder, self).__init__()\n",
        "\n",
        "        self.encoder = nn.Sequential(\n",
        "            nn.Conv2d(3, 16, 3, stride=2, padding=1),\n",
        "            nn.ReLU(),\n",
        "            nn.Conv2d(16, 32, 3, stride=2, padding=1),\n",
        "            nn.ReLU(),\n",
        "            nn.Conv2d(32, 64, 3, stride=2, padding=1),\n",
        "            nn.ReLU()\n",
        "        )\n",
        "\n",
        "        self.bottleneck = nn.Linear(64 * 4 * 4, 800)\n",
        "\n",
        "        self.decoder = nn.Sequential(\n",
        "            nn.Linear(800, 64 * 4 * 4),\n",
        "            nn.ReLU(),\n",
        "            nn.ConvTranspose2d(64, 32, 3, stride=2, padding=1, output_padding=1),\n",
        "            nn.ReLU(),\n",
        "            nn.ConvTranspose2d(32, 16, 3, stride=2, padding=1, output_padding=1),\n",
        "            nn.ReLU(),\n",
        "            nn.ConvTranspose2d(16, 3, 3, stride=2, padding=1, output_padding=1),\n",
        "            nn.Tanh()\n",
        "        )\n",
        "\n",
        "    def extract_features(self, x):\n",
        "        x = self.encoder(x)\n",
        "        x = x.view(x.size(0), -1)\n",
        "        return self.bottleneck(x)\n",
        "\n",
        "\n",
        "    def forward(self, x):\n",
        "        x = self.encoder(x)\n",
        "        x = x.view(x.size(0), -1)\n",
        "        x = self.bottleneck(x)\n",
        "        x = self.decoder[0](x)\n",
        "        x = x.view(x.size(0), 64, 4, 4)\n",
        "        x = self.decoder[1:](x)\n",
        "        return x\n"
      ]
    },
    {
      "cell_type": "code",
      "execution_count": null,
      "metadata": {
        "colab": {
          "base_uri": "https://localhost:8080/"
        },
        "id": "He0BDu6jCw41",
        "outputId": "85550caf-13c5-4653-a93d-874f9b216d0a"
      },
      "outputs": [
        {
          "name": "stderr",
          "output_type": "stream",
          "text": [
            "100%|██████████| 625/625 [00:17<00:00, 36.05it/s]\n"
          ]
        },
        {
          "name": "stdout",
          "output_type": "stream",
          "text": [
            "Epoch 1/50: Train Loss: 1.2751, Val Loss: 0.9469\n"
          ]
        },
        {
          "name": "stderr",
          "output_type": "stream",
          "text": [
            "100%|██████████| 625/625 [00:16<00:00, 37.55it/s]\n"
          ]
        },
        {
          "name": "stdout",
          "output_type": "stream",
          "text": [
            "Epoch 2/50: Train Loss: 0.8745, Val Loss: 0.8341\n"
          ]
        },
        {
          "name": "stderr",
          "output_type": "stream",
          "text": [
            "100%|██████████| 625/625 [00:17<00:00, 34.85it/s]\n"
          ]
        },
        {
          "name": "stdout",
          "output_type": "stream",
          "text": [
            "Epoch 3/50: Train Loss: 0.8031, Val Loss: 0.7859\n"
          ]
        },
        {
          "name": "stderr",
          "output_type": "stream",
          "text": [
            "100%|██████████| 625/625 [00:16<00:00, 37.59it/s]\n"
          ]
        },
        {
          "name": "stdout",
          "output_type": "stream",
          "text": [
            "Epoch 4/50: Train Loss: 0.7635, Val Loss: 0.7518\n"
          ]
        },
        {
          "name": "stderr",
          "output_type": "stream",
          "text": [
            "100%|██████████| 625/625 [00:17<00:00, 34.88it/s]\n"
          ]
        },
        {
          "name": "stdout",
          "output_type": "stream",
          "text": [
            "Epoch 5/50: Train Loss: 0.7261, Val Loss: 0.7084\n"
          ]
        },
        {
          "name": "stderr",
          "output_type": "stream",
          "text": [
            "100%|██████████| 625/625 [00:16<00:00, 37.37it/s]\n"
          ]
        },
        {
          "name": "stdout",
          "output_type": "stream",
          "text": [
            "Epoch 6/50: Train Loss: 0.6902, Val Loss: 0.6838\n"
          ]
        },
        {
          "name": "stderr",
          "output_type": "stream",
          "text": [
            "100%|██████████| 625/625 [00:18<00:00, 34.45it/s]\n"
          ]
        },
        {
          "name": "stdout",
          "output_type": "stream",
          "text": [
            "Epoch 7/50: Train Loss: 0.6685, Val Loss: 0.6668\n"
          ]
        },
        {
          "name": "stderr",
          "output_type": "stream",
          "text": [
            "100%|██████████| 625/625 [00:16<00:00, 37.14it/s]\n"
          ]
        },
        {
          "name": "stdout",
          "output_type": "stream",
          "text": [
            "Epoch 8/50: Train Loss: 0.6547, Val Loss: 0.6532\n"
          ]
        },
        {
          "name": "stderr",
          "output_type": "stream",
          "text": [
            "100%|██████████| 625/625 [00:17<00:00, 35.24it/s]\n"
          ]
        },
        {
          "name": "stdout",
          "output_type": "stream",
          "text": [
            "Epoch 9/50: Train Loss: 0.6427, Val Loss: 0.6436\n"
          ]
        },
        {
          "name": "stderr",
          "output_type": "stream",
          "text": [
            "100%|██████████| 625/625 [00:16<00:00, 37.59it/s]\n"
          ]
        },
        {
          "name": "stdout",
          "output_type": "stream",
          "text": [
            "Epoch 10/50: Train Loss: 0.6333, Val Loss: 0.6343\n"
          ]
        },
        {
          "name": "stderr",
          "output_type": "stream",
          "text": [
            "100%|██████████| 625/625 [00:17<00:00, 36.62it/s]\n"
          ]
        },
        {
          "name": "stdout",
          "output_type": "stream",
          "text": [
            "Epoch 11/50: Train Loss: 0.6256, Val Loss: 0.6271\n"
          ]
        },
        {
          "name": "stderr",
          "output_type": "stream",
          "text": [
            "100%|██████████| 625/625 [00:16<00:00, 37.01it/s]\n"
          ]
        },
        {
          "name": "stdout",
          "output_type": "stream",
          "text": [
            "Epoch 12/50: Train Loss: 0.6188, Val Loss: 0.6222\n"
          ]
        },
        {
          "name": "stderr",
          "output_type": "stream",
          "text": [
            "100%|██████████| 625/625 [00:16<00:00, 37.08it/s]\n"
          ]
        },
        {
          "name": "stdout",
          "output_type": "stream",
          "text": [
            "Epoch 13/50: Train Loss: 0.6133, Val Loss: 0.6159\n"
          ]
        },
        {
          "name": "stderr",
          "output_type": "stream",
          "text": [
            "100%|██████████| 625/625 [00:16<00:00, 37.27it/s]\n"
          ]
        },
        {
          "name": "stdout",
          "output_type": "stream",
          "text": [
            "Epoch 14/50: Train Loss: 0.6076, Val Loss: 0.6115\n"
          ]
        },
        {
          "name": "stderr",
          "output_type": "stream",
          "text": [
            "100%|██████████| 625/625 [00:16<00:00, 37.36it/s]\n"
          ]
        },
        {
          "name": "stdout",
          "output_type": "stream",
          "text": [
            "Epoch 15/50: Train Loss: 0.6053, Val Loss: 0.6078\n"
          ]
        },
        {
          "name": "stderr",
          "output_type": "stream",
          "text": [
            "100%|██████████| 625/625 [00:16<00:00, 37.28it/s]\n"
          ]
        },
        {
          "name": "stdout",
          "output_type": "stream",
          "text": [
            "Epoch 16/50: Train Loss: 0.5999, Val Loss: 0.6042\n"
          ]
        },
        {
          "name": "stderr",
          "output_type": "stream",
          "text": [
            "100%|██████████| 625/625 [00:16<00:00, 36.97it/s]\n"
          ]
        },
        {
          "name": "stdout",
          "output_type": "stream",
          "text": [
            "Epoch 17/50: Train Loss: 0.5974, Val Loss: 0.6005\n"
          ]
        },
        {
          "name": "stderr",
          "output_type": "stream",
          "text": [
            "100%|██████████| 625/625 [00:16<00:00, 37.12it/s]\n"
          ]
        },
        {
          "name": "stdout",
          "output_type": "stream",
          "text": [
            "Epoch 18/50: Train Loss: 0.5945, Val Loss: 0.5985\n"
          ]
        },
        {
          "name": "stderr",
          "output_type": "stream",
          "text": [
            "100%|██████████| 625/625 [00:16<00:00, 36.84it/s]\n"
          ]
        },
        {
          "name": "stdout",
          "output_type": "stream",
          "text": [
            "Epoch 19/50: Train Loss: 0.5923, Val Loss: 0.5957\n"
          ]
        },
        {
          "name": "stderr",
          "output_type": "stream",
          "text": [
            "100%|██████████| 625/625 [00:16<00:00, 37.73it/s]\n"
          ]
        },
        {
          "name": "stdout",
          "output_type": "stream",
          "text": [
            "Epoch 20/50: Train Loss: 0.5886, Val Loss: 0.5926\n"
          ]
        },
        {
          "name": "stderr",
          "output_type": "stream",
          "text": [
            "100%|██████████| 625/625 [00:16<00:00, 37.98it/s]\n"
          ]
        },
        {
          "name": "stdout",
          "output_type": "stream",
          "text": [
            "Epoch 21/50: Train Loss: 0.5868, Val Loss: 0.5907\n"
          ]
        },
        {
          "name": "stderr",
          "output_type": "stream",
          "text": [
            "100%|██████████| 625/625 [00:17<00:00, 36.49it/s]\n"
          ]
        },
        {
          "name": "stdout",
          "output_type": "stream",
          "text": [
            "Epoch 22/50: Train Loss: 0.5849, Val Loss: 0.5878\n"
          ]
        },
        {
          "name": "stderr",
          "output_type": "stream",
          "text": [
            "100%|██████████| 625/625 [00:16<00:00, 37.34it/s]\n"
          ]
        },
        {
          "name": "stdout",
          "output_type": "stream",
          "text": [
            "Epoch 23/50: Train Loss: 0.5823, Val Loss: 0.5862\n"
          ]
        },
        {
          "name": "stderr",
          "output_type": "stream",
          "text": [
            "100%|██████████| 625/625 [00:17<00:00, 34.90it/s]\n"
          ]
        },
        {
          "name": "stdout",
          "output_type": "stream",
          "text": [
            "Epoch 24/50: Train Loss: 0.5802, Val Loss: 0.5851\n"
          ]
        },
        {
          "name": "stderr",
          "output_type": "stream",
          "text": [
            "100%|██████████| 625/625 [00:16<00:00, 37.50it/s]\n"
          ]
        },
        {
          "name": "stdout",
          "output_type": "stream",
          "text": [
            "Epoch 25/50: Train Loss: 0.5782, Val Loss: 0.5834\n"
          ]
        },
        {
          "name": "stderr",
          "output_type": "stream",
          "text": [
            "100%|██████████| 625/625 [00:18<00:00, 34.59it/s]\n"
          ]
        },
        {
          "name": "stdout",
          "output_type": "stream",
          "text": [
            "Epoch 26/50: Train Loss: 0.5772, Val Loss: 0.5815\n"
          ]
        },
        {
          "name": "stderr",
          "output_type": "stream",
          "text": [
            "100%|██████████| 625/625 [00:18<00:00, 34.07it/s]\n"
          ]
        },
        {
          "name": "stdout",
          "output_type": "stream",
          "text": [
            "Epoch 27/50: Train Loss: 0.5751, Val Loss: 0.5774\n"
          ]
        },
        {
          "name": "stderr",
          "output_type": "stream",
          "text": [
            "100%|██████████| 625/625 [00:17<00:00, 34.80it/s]\n"
          ]
        },
        {
          "name": "stdout",
          "output_type": "stream",
          "text": [
            "Epoch 28/50: Train Loss: 0.5732, Val Loss: 0.5776\n"
          ]
        },
        {
          "name": "stderr",
          "output_type": "stream",
          "text": [
            "100%|██████████| 625/625 [00:17<00:00, 36.54it/s]\n"
          ]
        },
        {
          "name": "stdout",
          "output_type": "stream",
          "text": [
            "Epoch 29/50: Train Loss: 0.5724, Val Loss: 0.5771\n"
          ]
        },
        {
          "name": "stderr",
          "output_type": "stream",
          "text": [
            "100%|██████████| 625/625 [00:17<00:00, 36.71it/s]\n"
          ]
        },
        {
          "name": "stdout",
          "output_type": "stream",
          "text": [
            "Epoch 30/50: Train Loss: 0.5714, Val Loss: 0.5759\n"
          ]
        },
        {
          "name": "stderr",
          "output_type": "stream",
          "text": [
            "100%|██████████| 625/625 [00:16<00:00, 37.59it/s]\n"
          ]
        },
        {
          "name": "stdout",
          "output_type": "stream",
          "text": [
            "Epoch 31/50: Train Loss: 0.5690, Val Loss: 0.5726\n"
          ]
        },
        {
          "name": "stderr",
          "output_type": "stream",
          "text": [
            "100%|██████████| 625/625 [00:16<00:00, 37.26it/s]\n"
          ]
        },
        {
          "name": "stdout",
          "output_type": "stream",
          "text": [
            "Epoch 32/50: Train Loss: 0.5668, Val Loss: 0.5705\n"
          ]
        },
        {
          "name": "stderr",
          "output_type": "stream",
          "text": [
            "100%|██████████| 625/625 [00:16<00:00, 37.54it/s]\n"
          ]
        },
        {
          "name": "stdout",
          "output_type": "stream",
          "text": [
            "Epoch 33/50: Train Loss: 0.5647, Val Loss: 0.5690\n"
          ]
        },
        {
          "name": "stderr",
          "output_type": "stream",
          "text": [
            "100%|██████████| 625/625 [00:16<00:00, 36.95it/s]\n"
          ]
        },
        {
          "name": "stdout",
          "output_type": "stream",
          "text": [
            "Epoch 34/50: Train Loss: 0.5633, Val Loss: 0.5695\n"
          ]
        },
        {
          "name": "stderr",
          "output_type": "stream",
          "text": [
            "100%|██████████| 625/625 [00:16<00:00, 37.65it/s]\n"
          ]
        },
        {
          "name": "stdout",
          "output_type": "stream",
          "text": [
            "Epoch 35/50: Train Loss: 0.5625, Val Loss: 0.5670\n"
          ]
        },
        {
          "name": "stderr",
          "output_type": "stream",
          "text": [
            "100%|██████████| 625/625 [00:16<00:00, 37.80it/s]\n"
          ]
        },
        {
          "name": "stdout",
          "output_type": "stream",
          "text": [
            "Epoch 36/50: Train Loss: 0.5604, Val Loss: 0.5667\n"
          ]
        },
        {
          "name": "stderr",
          "output_type": "stream",
          "text": [
            "100%|██████████| 625/625 [00:17<00:00, 36.26it/s]\n"
          ]
        },
        {
          "name": "stdout",
          "output_type": "stream",
          "text": [
            "Epoch 37/50: Train Loss: 0.5599, Val Loss: 0.5637\n"
          ]
        },
        {
          "name": "stderr",
          "output_type": "stream",
          "text": [
            "100%|██████████| 625/625 [00:16<00:00, 37.23it/s]\n"
          ]
        },
        {
          "name": "stdout",
          "output_type": "stream",
          "text": [
            "Epoch 38/50: Train Loss: 0.5591, Val Loss: 0.5643\n"
          ]
        },
        {
          "name": "stderr",
          "output_type": "stream",
          "text": [
            "100%|██████████| 625/625 [00:17<00:00, 35.39it/s]\n"
          ]
        },
        {
          "name": "stdout",
          "output_type": "stream",
          "text": [
            "Epoch 39/50: Train Loss: 0.5582, Val Loss: 0.5635\n"
          ]
        },
        {
          "name": "stderr",
          "output_type": "stream",
          "text": [
            "100%|██████████| 625/625 [00:16<00:00, 37.52it/s]\n"
          ]
        },
        {
          "name": "stdout",
          "output_type": "stream",
          "text": [
            "Epoch 40/50: Train Loss: 0.5564, Val Loss: 0.5604\n"
          ]
        },
        {
          "name": "stderr",
          "output_type": "stream",
          "text": [
            "100%|██████████| 625/625 [00:18<00:00, 34.19it/s]\n"
          ]
        },
        {
          "name": "stdout",
          "output_type": "stream",
          "text": [
            "Epoch 41/50: Train Loss: 0.5553, Val Loss: 0.5609\n"
          ]
        },
        {
          "name": "stderr",
          "output_type": "stream",
          "text": [
            "100%|██████████| 625/625 [00:16<00:00, 37.51it/s]\n"
          ]
        },
        {
          "name": "stdout",
          "output_type": "stream",
          "text": [
            "Epoch 42/50: Train Loss: 0.5554, Val Loss: 0.5592\n"
          ]
        },
        {
          "name": "stderr",
          "output_type": "stream",
          "text": [
            "100%|██████████| 625/625 [00:17<00:00, 34.93it/s]\n"
          ]
        },
        {
          "name": "stdout",
          "output_type": "stream",
          "text": [
            "Epoch 43/50: Train Loss: 0.5537, Val Loss: 0.5578\n"
          ]
        },
        {
          "name": "stderr",
          "output_type": "stream",
          "text": [
            "100%|██████████| 625/625 [00:16<00:00, 37.36it/s]\n"
          ]
        },
        {
          "name": "stdout",
          "output_type": "stream",
          "text": [
            "Epoch 44/50: Train Loss: 0.5533, Val Loss: 0.5570\n"
          ]
        },
        {
          "name": "stderr",
          "output_type": "stream",
          "text": [
            "100%|██████████| 625/625 [00:17<00:00, 35.94it/s]\n"
          ]
        },
        {
          "name": "stdout",
          "output_type": "stream",
          "text": [
            "Epoch 45/50: Train Loss: 0.5529, Val Loss: 0.5580\n"
          ]
        },
        {
          "name": "stderr",
          "output_type": "stream",
          "text": [
            "100%|██████████| 625/625 [00:16<00:00, 38.03it/s]\n"
          ]
        },
        {
          "name": "stdout",
          "output_type": "stream",
          "text": [
            "Epoch 46/50: Train Loss: 0.5519, Val Loss: 0.5560\n"
          ]
        },
        {
          "name": "stderr",
          "output_type": "stream",
          "text": [
            "100%|██████████| 625/625 [00:16<00:00, 37.32it/s]\n"
          ]
        },
        {
          "name": "stdout",
          "output_type": "stream",
          "text": [
            "Epoch 47/50: Train Loss: 0.5504, Val Loss: 0.5566\n"
          ]
        },
        {
          "name": "stderr",
          "output_type": "stream",
          "text": [
            "100%|██████████| 625/625 [00:16<00:00, 37.44it/s]\n"
          ]
        },
        {
          "name": "stdout",
          "output_type": "stream",
          "text": [
            "Epoch 48/50: Train Loss: 0.5493, Val Loss: 0.5533\n"
          ]
        },
        {
          "name": "stderr",
          "output_type": "stream",
          "text": [
            "100%|██████████| 625/625 [00:16<00:00, 36.93it/s]\n"
          ]
        },
        {
          "name": "stdout",
          "output_type": "stream",
          "text": [
            "Epoch 49/50: Train Loss: 0.5497, Val Loss: 0.5547\n"
          ]
        },
        {
          "name": "stderr",
          "output_type": "stream",
          "text": [
            "100%|██████████| 625/625 [00:16<00:00, 37.21it/s]\n"
          ]
        },
        {
          "name": "stdout",
          "output_type": "stream",
          "text": [
            "Epoch 50/50: Train Loss: 0.5494, Val Loss: 0.5526\n"
          ]
        }
      ],
      "source": [
        "# Baseline Autoencoder\n",
        "baseline_autoencoder = BaselineAutoencoder().cuda()\n",
        "optimizer_baseline = optim.Adam(baseline_autoencoder.parameters(), lr=0.001)\n",
        "train_losses_baseline, val_losses_baseline = train(baseline_autoencoder, trainloader, valloader, optimizer_baseline, criterion, num_epochs)\n",
        "torch.save(baseline_autoencoder, '/content/drive/MyDrive/baseline_autoencoder_model.pth')"
      ]
    },
    {
      "cell_type": "code",
      "execution_count": 21,
      "metadata": {
        "id": "gUtTvfQLD3uK"
      },
      "outputs": [],
      "source": [
        "baseline_autoencoder = torch.load('/content/drive/MyDrive/baseline_autoencoder_model.pth')"
      ]
    },
    {
      "cell_type": "code",
      "execution_count": 22,
      "metadata": {
        "colab": {
          "base_uri": "https://localhost:8080/"
        },
        "id": "DE8KYdsbCTHA",
        "outputId": "57c4bc81-37ee-46ca-faf7-e0c278c1df31"
      },
      "outputs": [
        {
          "output_type": "stream",
          "name": "stdout",
          "text": [
            "Baseline Autoencoder Sparsity Percentage: 0.05%\n"
          ]
        }
      ],
      "source": [
        "baseline_sparsity_percentage = sparsity_analysis(baseline_autoencoder)\n",
        "print(f\"Baseline Autoencoder Sparsity Percentage: {baseline_sparsity_percentage:.2f}%\")"
      ]
    },
    {
      "cell_type": "code",
      "execution_count": 23,
      "metadata": {
        "id": "JlD5t-w3wQsn"
      },
      "outputs": [],
      "source": [
        "history = {\n",
        "    'train_losses_baseline': train_losses_baseline,\n",
        "    'val_losses_baseline': val_losses_baseline,\n",
        "    'train_losses_sparse': train_losses_sparse,\n",
        "    'val_losses_sparse': val_losses_sparse\n",
        "}\n",
        "\n",
        "with open('/content/drive/MyDrive/training_history.pkl', 'wb') as file:\n",
        "    pickle.dump(history, file)\n"
      ]
    },
    {
      "cell_type": "markdown",
      "metadata": {
        "id": "iTfa-n5K_aQ9"
      },
      "source": [
        "# Evaluation"
      ]
    },
    {
      "cell_type": "markdown",
      "metadata": {
        "id": "H_rMQVmsbVO8"
      },
      "source": [
        "Training History"
      ]
    },
    {
      "cell_type": "code",
      "execution_count": 24,
      "metadata": {
        "id": "FbaGVruPxnd7"
      },
      "outputs": [],
      "source": [
        "with open('/content/drive/MyDrive/training_history.pkl', 'rb') as file:\n",
        "    history = pickle.load(file)\n",
        "\n",
        "train_losses_baseline = history['train_losses_baseline']\n",
        "val_losses_baseline = history['val_losses_baseline']\n",
        "train_losses_sparse = history['train_losses_sparse']\n",
        "val_losses_sparse = history['val_losses_sparse']"
      ]
    },
    {
      "cell_type": "code",
      "execution_count": 25,
      "metadata": {
        "colab": {
          "base_uri": "https://localhost:8080/",
          "height": 1000
        },
        "id": "v91fZ9GobTuV",
        "outputId": "cb483956-d78a-4088-cf07-70dfb4dac885"
      },
      "outputs": [
        {
          "output_type": "display_data",
          "data": {
            "text/plain": [
              "<Figure size 1200x600 with 1 Axes>"
            ],
            "image/png": "[encoded data removed]"
          },
          "metadata": {}
        },
        {
          "output_type": "display_data",
          "data": {
            "text/plain": [
              "<Figure size 1200x600 with 1 Axes>"
            ],
            "image/png": "[encoded data removed]"
          },
          "metadata": {}
        }
      ],
      "source": [
        "def plot_model_loss(train_losses, val_losses, model_name):\n",
        "    plt.figure(figsize=(12, 6))\n",
        "    plt.plot(train_losses)\n",
        "    plt.plot(val_losses)\n",
        "    plt.title(f'{model_name} Model Loss')\n",
        "    plt.ylabel('Loss')\n",
        "    plt.xlabel('Epoch')\n",
        "    plt.legend(['Train', 'Validation'], loc='upper right')\n",
        "    plt.show()\n",
        "\n",
        "plot_model_loss(train_losses_sparse, val_losses_sparse, 'Sparse')\n",
        "plot_model_loss(train_losses_baseline, val_losses_baseline, 'Baseline')"
      ]
    },
    {
      "cell_type": "markdown",
      "metadata": {
        "id": "L4_aqZzKbRGT"
      },
      "source": [
        "Overall Performance"
      ]
    },
    {
      "cell_type": "code",
      "execution_count": 26,
      "metadata": {
        "colab": {
          "base_uri": "https://localhost:8080/"
        },
        "id": "_WFK_2kf_d4T",
        "outputId": "6ef00832-41b0-4b7c-eadb-72c9c64b4256"
      },
      "outputs": [
        {
          "output_type": "stream",
          "name": "stdout",
          "text": [
            "Sparse Autoencoder Test Loss: 0.0490\n",
            "Baseline Autoencoder Test Loss: 0.5511\n"
          ]
        }
      ],
      "source": [
        "def evaluate_model(model, dataloader):\n",
        "    total_loss = 0\n",
        "    with torch.no_grad():\n",
        "        for data in dataloader:\n",
        "            inputs, _ = data\n",
        "            inputs = inputs.cuda()\n",
        "\n",
        "            outputs = model(inputs)\n",
        "            loss = criterion(outputs, inputs)\n",
        "            total_loss += loss.item()\n",
        "    return total_loss / len(dataloader)\n",
        "\n",
        "sparse_test_loss = evaluate_model(sparse_autoencoder, testloader)\n",
        "baseline_test_loss = evaluate_model(baseline_autoencoder, testloader)\n",
        "\n",
        "print(f\"Sparse Autoencoder Test Loss: {sparse_test_loss:.4f}\")\n",
        "print(f\"Baseline Autoencoder Test Loss: {baseline_test_loss:.4f}\")"
      ]
    },
    {
      "cell_type": "markdown",
      "metadata": {
        "id": "_M5Cch9z8e4v"
      },
      "source": [
        "# Analysis"
      ]
    },
    {
      "cell_type": "code",
      "execution_count": 27,
      "metadata": {
        "id": "uXDRe-RoA2V5"
      },
      "outputs": [],
      "source": [
        "def denormalize(tensor, mean = (0.4914, 0.4822, 0.4465), std = (0.2023, 0.1994, 0.2010)):\n",
        "    for t, m, s in zip(tensor, mean, std):\n",
        "        t.mul_(s).add_(m)\n",
        "    return tensor\n"
      ]
    },
    {
      "cell_type": "markdown",
      "metadata": {
        "id": "GrUkFlmV8mRZ"
      },
      "source": [
        "Reconstruction Quality"
      ]
    },
    {
      "cell_type": "code",
      "execution_count": 28,
      "metadata": {
        "colab": {
          "base_uri": "https://localhost:8080/",
          "height": 507
        },
        "id": "subskve_8eVY",
        "outputId": "25156013-0918-47f5-ede7-109ffdafaf34"
      },
      "outputs": [
        {
          "output_type": "display_data",
          "data": {
            "text/plain": [
              "<Figure size 2000x600 with 9 Axes>"
            ],
            "image/png": "[encoded data removed]"
          },
          "metadata": {}
        }
      ],
      "source": [
        "def display_reconstructions(model, baseline_model, dataloader, model_name, num_samples=3):\n",
        "    with torch.no_grad():\n",
        "        dataiter = iter(dataloader)\n",
        "        original_images, _ = next(dataiter)\n",
        "        sparse_reconstructed_images = model(original_images[:num_samples].cuda()).cpu()\n",
        "        baseline_reconstructed_images = baseline_model(original_images[:num_samples].cuda()).cpu()\n",
        "\n",
        "    fig, axes = plt.subplots(nrows=3, ncols=num_samples, figsize=(20, 6))\n",
        "\n",
        "    for images, row, title in zip([original_images, sparse_reconstructed_images, baseline_reconstructed_images], axes, [\"Originals\", \"Sparse Reconstructions\", \"Baseline Reconstructions\"]):\n",
        "        for img, ax in zip(images, row):\n",
        "            img_clipped = torch.clamp(img, 0, 1)\n",
        "            ax.imshow(img_clipped.permute(1, 2, 0).cpu().numpy())\n",
        "            ax.axis('off')\n",
        "        row[0].set_title(title)\n",
        "\n",
        "    plt.suptitle(f\"Reconstructions using {model_name}\", fontsize=16)\n",
        "    plt.subplots_adjust(wspace=0.1)\n",
        "\n",
        "    plt.show()\n",
        "\n",
        "display_reconstructions(sparse_autoencoder, baseline_autoencoder, testloader, \"Autoencoders\")\n"
      ]
    },
    {
      "cell_type": "code",
      "execution_count": 29,
      "metadata": {
        "colab": {
          "base_uri": "https://localhost:8080/"
        },
        "id": "4ZW3Aaxw6Pnt",
        "outputId": "852bb6de-3c1f-43f5-e4db-f7b9336b6400"
      },
      "outputs": [
        {
          "output_type": "stream",
          "name": "stdout",
          "text": [
            "Sparse Autoencoder Reconstruction Quality: PSNR is 19.9217, SSIM is 0.8561 \n",
            "Baseline Autoencoder Reconstruction Quality: PSNR is 17.8727, SSIM is 0.7964 \n"
          ]
        }
      ],
      "source": [
        "def evaluate_reconstruction_quality(model, dataloader):\n",
        "    with torch.no_grad():\n",
        "        dataiter = iter(dataloader)\n",
        "        original_images, _ = next(dataiter)\n",
        "        reconstructed_images = model(original_images.cuda()).cpu()\n",
        "        reconstructed_images = denormalize(reconstructed_images)\n",
        "\n",
        "    psnrs = []\n",
        "    ssims = []\n",
        "\n",
        "    for orig, recon in zip(original_images, reconstructed_images):\n",
        "        orig_np = torch.clamp(orig, 0, 1).permute(1, 2, 0).numpy()\n",
        "        recon_np = torch.clamp(recon, 0, 1).permute(1, 2, 0).numpy()\n",
        "\n",
        "        psnr = compare_psnr(orig_np, recon_np, data_range=1)\n",
        "        ssim, _ = compare_ssim(orig_np, recon_np, channel_axis=-1, full=True)\n",
        "\n",
        "        psnrs.append(psnr)\n",
        "        ssims.append(ssim)\n",
        "\n",
        "    average_psnr = np.mean(psnrs)\n",
        "    average_ssim = np.mean(ssims)\n",
        "\n",
        "    return average_psnr, average_ssim\n",
        "\n",
        "\n",
        "sparse_psnr, sparse_ssim = evaluate_reconstruction_quality(sparse_autoencoder, testloader)\n",
        "baseline_psnr, baseline_ssim = evaluate_reconstruction_quality(baseline_autoencoder, testloader)\n",
        "\n",
        "print(f\"Sparse Autoencoder Reconstruction Quality: PSNR is {sparse_psnr:.4f}, SSIM is {sparse_ssim:.4f} \")\n",
        "print(f\"Baseline Autoencoder Reconstruction Quality: PSNR is {baseline_psnr:.4f}, SSIM is {baseline_ssim:.4f} \")"
      ]
    },
    {
      "cell_type": "markdown",
      "metadata": {
        "id": "j5q_XLSU9VjR"
      },
      "source": [
        "\n",
        "Visualize Filters"
      ]
    },
    {
      "cell_type": "code",
      "execution_count": 30,
      "metadata": {
        "colab": {
          "base_uri": "https://localhost:8080/",
          "height": 543
        },
        "id": "V6zE3ZJt9NHE",
        "outputId": "313994f6-05af-454e-c623-bba3ebfec168"
      },
      "outputs": [
        {
          "output_type": "display_data",
          "data": {
            "text/plain": [
              "<Figure size 1000x1000 with 1 Axes>"
            ],
            "image/png": "[encoded data removed]"
          },
          "metadata": {}
        },
        {
          "output_type": "display_data",
          "data": {
            "text/plain": [
              "<Figure size 1000x1000 with 1 Axes>"
            ],
            "image/png": "[encoded data removed]"
          },
          "metadata": {}
        }
      ],
      "source": [
        "def visualize_filters(layer_weights, model_name):\n",
        "    grid = make_grid(layer_weights, nrow=8, normalize=True)\n",
        "    plt.figure(figsize=(10,10))\n",
        "    plt.imshow(grid.permute(1, 2, 0).cpu().numpy())\n",
        "    plt.title(f\"{model_name} Model Filters\")\n",
        "    plt.axis('off')\n",
        "    plt.show()\n",
        "\n",
        "visualize_filters(sparse_autoencoder.encoder[0].weight.data, \"Sparse\")\n",
        "visualize_filters(baseline_autoencoder.encoder[0].weight.data, \"Baseline\")"
      ]
    },
    {
      "cell_type": "code",
      "execution_count": 31,
      "metadata": {
        "colab": {
          "base_uri": "https://localhost:8080/",
          "height": 1000
        },
        "id": "YZ0xjoGPyvaS",
        "outputId": "b2066af0-0e44-496f-fab2-60725d455a54"
      },
      "outputs": [
        {
          "output_type": "display_data",
          "data": {
            "text/plain": [
              "<Figure size 1000x600 with 1 Axes>"
            ],
            "image/png": "[encoded data removed]"
          },
          "metadata": {}
        },
        {
          "output_type": "display_data",
          "data": {
            "text/plain": [
              "<Figure size 1000x600 with 1 Axes>"
            ],
            "image/png": "[encoded data removed]"
          },
          "metadata": {}
        }
      ],
      "source": [
        "def visualize_activations(model, dataloader, model_name):\n",
        "    dataiter = iter(dataloader)\n",
        "    images, labels = dataiter.__next__()\n",
        "\n",
        "    single_image = images[0].unsqueeze(0)\n",
        "    if torch.cuda.is_available():\n",
        "        single_image = single_image.cuda()\n",
        "\n",
        "    single_label = labels[0]\n",
        "\n",
        "    activations = model.extract_features(single_image)\n",
        "\n",
        "    plt.figure(figsize=(10, 6))\n",
        "    plt.bar(range(len(activations[0])), activations[0].cpu().detach().numpy())\n",
        "    plt.title(f\"{model_name} Model Neuron Activations\")\n",
        "    plt.xlabel(\"Neurons\")\n",
        "    plt.ylabel(\"Activation Magnitude\")\n",
        "    plt.show()\n",
        "\n",
        "visualize_activations(sparse_autoencoder, testloader, \"Sparse\")\n",
        "visualize_activations(baseline_autoencoder, testloader, \"Baseline\")"
      ]
    },
    {
      "cell_type": "markdown",
      "metadata": {
        "id": "wpxC6_2q-Euj"
      },
      "source": [
        "Computational Efficency"
      ]
    },
    {
      "cell_type": "code",
      "execution_count": 32,
      "metadata": {
        "colab": {
          "base_uri": "https://localhost:8080/"
        },
        "id": "wudMf7Lz_LP8",
        "outputId": "1b46f867-5a8b-455f-99db-49fa909a8489"
      },
      "outputs": [
        {
          "output_type": "stream",
          "name": "stdout",
          "text": [
            "Sparse Autoencoder Inference Time: 3.6858 seconds\n",
            "Baseline Autoencoder Inference Time: 5.4853 seconds\n"
          ]
        }
      ],
      "source": [
        "def compute_efficiency(model, dataloader):\n",
        "    start_time = time.time()\n",
        "\n",
        "    # Use our previously defined evaluate_model function\n",
        "    loss = evaluate_model(model, dataloader)\n",
        "\n",
        "    end_time = time.time()\n",
        "    elapsed_time = end_time - start_time\n",
        "\n",
        "    return loss, elapsed_time\n",
        "\n",
        "sparse_loss, sparse_time = compute_efficiency(sparse_autoencoder, testloader)\n",
        "baseline_loss, baseline_time = compute_efficiency(baseline_autoencoder, testloader)\n",
        "\n",
        "print(f\"Sparse Autoencoder Inference Time: {sparse_time:.4f} seconds\")\n",
        "print(f\"Baseline Autoencoder Inference Time: {baseline_time:.4f} seconds\")"
      ]
    },
    {
      "cell_type": "markdown",
      "metadata": {
        "id": "WDIb7UF8_uDK"
      },
      "source": [
        "Robustness"
      ]
    },
    {
      "cell_type": "code",
      "execution_count": 33,
      "metadata": {
        "id": "Juz9W0Ws_tVD"
      },
      "outputs": [],
      "source": [
        "def add_noise(data, noise_factor=0.5):\n",
        "    noise = torch.randn_like(data) * noise_factor\n",
        "    noisy_data = data + noise\n",
        "    return noisy_data.clamp(0., 1.)"
      ]
    },
    {
      "cell_type": "code",
      "execution_count": 34,
      "metadata": {
        "colab": {
          "base_uri": "https://localhost:8080/"
        },
        "id": "PTxtaCbAasVg",
        "outputId": "a9ac9416-fcb8-4b5a-c684-88da42e99565"
      },
      "outputs": [
        {
          "output_type": "stream",
          "name": "stdout",
          "text": [
            "Sparse Autoencoder Noisy Input Loss: 1.5412\n",
            "Baseline Autoencoder Noisy Input Loss: 1.6027\n"
          ]
        }
      ],
      "source": [
        "def evaluate_noisy_reconstruction(model, dataloader, noise_factor=0.5):\n",
        "    device = next(model.parameters()).device  # Gets the device of the model\n",
        "    total_loss = 0\n",
        "    with torch.no_grad():\n",
        "        for data, _ in dataloader:\n",
        "            data = data.to(device)\n",
        "            noisy_data = add_noise(data, noise_factor)\n",
        "            outputs = model(noisy_data)\n",
        "            loss = criterion(outputs, data)\n",
        "            total_loss += loss.item()\n",
        "\n",
        "    return total_loss / len(dataloader)\n",
        "\n",
        "\n",
        "sparse_noisy_loss = evaluate_noisy_reconstruction(sparse_autoencoder, testloader)\n",
        "baseline_noisy_loss = evaluate_noisy_reconstruction(baseline_autoencoder, testloader)\n",
        "\n",
        "print(f\"Sparse Autoencoder Noisy Input Loss: {sparse_noisy_loss:.4f}\")\n",
        "print(f\"Baseline Autoencoder Noisy Input Loss: {baseline_noisy_loss:.4f}\")"
      ]
    },
    {
      "cell_type": "code",
      "execution_count": 35,
      "metadata": {
        "colab": {
          "base_uri": "https://localhost:8080/",
          "height": 564
        },
        "id": "vzUEodbkUl5c",
        "outputId": "69869b98-395d-44fc-d9b8-bb360ed31652"
      },
      "outputs": [
        {
          "output_type": "display_data",
          "data": {
            "text/plain": [
              "<Figure size 1000x600 with 1 Axes>"
            ],
            "image/png": "[encoded data removed]"
          },
          "metadata": {}
        }
      ],
      "source": [
        "noise_factors = [i * 0.1 for i in range(11)]\n",
        "\n",
        "sparse_losses = []\n",
        "baseline_losses = []\n",
        "\n",
        "for noise_factor in noise_factors:\n",
        "    sparse_loss = evaluate_noisy_reconstruction(sparse_autoencoder, testloader, noise_factor)\n",
        "    baseline_loss = evaluate_noisy_reconstruction(baseline_autoencoder, testloader, noise_factor)\n",
        "\n",
        "    sparse_losses.append(sparse_loss)\n",
        "    baseline_losses.append(baseline_loss)\n",
        "\n",
        "plt.figure(figsize=(10, 6))\n",
        "plt.plot(noise_factors, sparse_losses, label='Sparse Autoencoder', marker='o', color='blue')\n",
        "plt.plot(noise_factors, baseline_losses, label='Baseline Autoencoder', marker='o', color='red')\n",
        "\n",
        "plt.title('Noisy Input Loss vs. Noise Factor')\n",
        "plt.xlabel('Noise Factor')\n",
        "plt.ylabel('Noisy Input Loss')\n",
        "plt.legend()\n",
        "plt.show()\n"
      ]
    },
    {
      "cell_type": "code",
      "execution_count": 36,
      "metadata": {
        "id": "b1BpuVWtem6K"
      },
      "outputs": [],
      "source": [
        "def extract_and_flatten_features(model, dataloader):\n",
        "    features = []\n",
        "    labels = []\n",
        "    for data, target in dataloader:\n",
        "        feature = model.extract_features(data.cuda()).cpu().detach().numpy()\n",
        "        features.append(feature)\n",
        "        labels.append(target.numpy())\n",
        "    return np.vstack(features), np.concatenate(labels)"
      ]
    },
    {
      "cell_type": "code",
      "execution_count": 37,
      "metadata": {
        "id": "bhuEG7GxGsM9",
        "colab": {
          "base_uri": "https://localhost:8080/"
        },
        "outputId": "23943c1e-c3da-40e4-8c7a-87dcee9cefa1"
      },
      "outputs": [
        {
          "output_type": "stream",
          "name": "stderr",
          "text": [
            "/usr/local/lib/python3.10/dist-packages/sklearn/linear_model/_sag.py:350: ConvergenceWarning: The max_iter was reached which means the coef_ did not converge\n",
            "  warnings.warn(\n"
          ]
        }
      ],
      "source": [
        "sparse_features, labels = extract_and_flatten_features(sparse_autoencoder, trainloader)\n",
        "baseline_features, _ = extract_and_flatten_features(baseline_autoencoder, trainloader)\n",
        "\n",
        "scaler_sparse = StandardScaler()\n",
        "sparse_features_scaled = scaler_sparse.fit_transform(sparse_features)\n",
        "\n",
        "scaler_baseline = StandardScaler()\n",
        "baseline_features_scaled = scaler_baseline.fit_transform(baseline_features)\n",
        "\n",
        "clf_sparse = LogisticRegression(max_iter=1000, solver='saga').fit(sparse_features_scaled, labels)\n",
        "clf_baseline = LogisticRegression(max_iter=1000, solver='saga').fit(baseline_features_scaled, labels)\n"
      ]
    },
    {
      "cell_type": "code",
      "execution_count": 38,
      "metadata": {
        "id": "kegyULtmRR8s",
        "colab": {
          "base_uri": "https://localhost:8080/"
        },
        "outputId": "4becc37f-c518-4db1-b25e-a2f73f5f16f6"
      },
      "outputs": [
        {
          "output_type": "stream",
          "name": "stdout",
          "text": [
            "Sparse Autoencoder Classification Accuracy on Noisy Data: 0.1374\n",
            "Baseline Autoencoder Classification Accuracy on Noisy Data: 0.1065\n"
          ]
        }
      ],
      "source": [
        "def evaluate_classification(model, classifier, dataloader, noise_factor=0.5):\n",
        "    features, true_labels = extract_and_flatten_features(model, dataloader)\n",
        "    noisy_features = add_noise(torch.Tensor(features)).numpy()  # assuming the same noise factor\n",
        "    predicted_labels = classifier.predict(noisy_features)\n",
        "    accuracy = accuracy_score(true_labels, predicted_labels)\n",
        "    return accuracy\n",
        "\n",
        "sparse_accuracy = evaluate_classification(sparse_autoencoder, clf_sparse, testloader)\n",
        "baseline_accuracy = evaluate_classification(baseline_autoencoder, clf_baseline, testloader)\n",
        "\n",
        "print(f\"Sparse Autoencoder Classification Accuracy on Noisy Data: {sparse_accuracy:.4f}\")\n",
        "print(f\"Baseline Autoencoder Classification Accuracy on Noisy Data: {baseline_accuracy:.4f}\")\n"
      ]
    }
  ],
  "metadata": {
    "accelerator": "GPU",
    "colab": {
      "provenance": []
    },
    "kernelspec": {
      "display_name": "Python 3",
      "name": "python3"
    },
    "language_info": {
      "name": "python"
    }
  },
  "nbformat": 4,
  "nbformat_minor": 0
}